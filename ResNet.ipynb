{
 "cells": [
  {
   "cell_type": "markdown",
   "metadata": {
    "id": "xFhToZdzeBX9"
   },
   "source": [
    "#### 超参数定义"
   ]
  },
  {
   "cell_type": "code",
   "execution_count": 35,
   "metadata": {
    "id": "E_27KYE0eBX-"
   },
   "outputs": [],
   "source": [
    "import torch\n",
    "\n",
    "device = torch.device('cuda' if torch.cuda.is_available() else 'cpu')\n",
    "\n",
    "batch_size = 512 # 每个小批量的大小\n",
    "learning_rate = 3e-4 # 学习率\n",
    "EPOCH = 20 # 训练轮数"
   ]
  },
  {
   "cell_type": "markdown",
   "metadata": {
    "id": "mMOw2sIAeBX-"
   },
   "source": [
    "#### 标准化操作&数据增强\n",
    "\n",
    "定义标准化函数，将原始图像数据每个像素值0-255转换为服从均值为0，标准差为1的分布\n",
    "\n",
    "同时对训练集进行随机裁剪和随机水平反转的数据增强"
   ]
  },
  {
   "cell_type": "code",
   "execution_count": 20,
   "metadata": {
    "id": "SpmT55FmeBX_"
   },
   "outputs": [],
   "source": [
    "from torchvision import transforms\n",
    "\n",
    "transform_train = transforms.Compose([\n",
    "    transforms.RandomCrop(32, padding=4),\n",
    "    transforms.RandomHorizontalFlip(),\n",
    "    transforms.ToTensor(),\n",
    "    transforms.Normalize((0.4914, 0.4822, 0.4465), (0.2023, 0.1994, 0.2010)),\n",
    "])\n",
    "\n",
    "transform_test = transforms.Compose([\n",
    "    transforms.ToTensor(),\n",
    "    transforms.Normalize((0.4914, 0.4822, 0.4465), (0.2023, 0.1994, 0.2010)),\n",
    "])"
   ]
  },
  {
   "cell_type": "markdown",
   "metadata": {
    "id": "_qlcqAfReBX_"
   },
   "source": [
    "#### 数据集加载\n",
    "\n",
    "使用Torchvision加载CIFAR-10数据集\n",
    "\n",
    "<img src=\"./image/CIFAR-10.png\" width=512/>"
   ]
  },
  {
   "cell_type": "code",
   "execution_count": 37,
   "metadata": {
    "colab": {
     "base_uri": "https://localhost:8080/"
    },
    "id": "2SGJX4tfeBX_",
    "outputId": "8d751e61-b731-4fef-bdfa-5e3ab50da2f1"
   },
   "outputs": [
    {
     "name": "stdout",
     "output_type": "stream",
     "text": [
      "Files already downloaded and verified\n",
      "Files already downloaded and verified\n"
     ]
    }
   ],
   "source": [
    "from torchvision import datasets\n",
    "\n",
    "train_dataset = datasets.CIFAR10(root='./data', train=True, download=True, transform=transform_train)\n",
    "test_dataset = datasets.CIFAR10(root='./data', train=False, download=True, transform=transform_test)"
   ]
  },
  {
   "cell_type": "code",
   "execution_count": 38,
   "metadata": {
    "id": "zLJ75DKpeBX_"
   },
   "outputs": [],
   "source": [
    "from torch.utils.data import DataLoader\n",
    "\n",
    "train_loader = DataLoader(train_dataset, batch_size=128, shuffle=True, num_workers=4)\n",
    "test_loader = DataLoader(test_dataset, batch_size=128, shuffle=False, num_workers=4)"
   ]
  },
  {
   "cell_type": "markdown",
   "metadata": {
    "id": "ebIHtwaPeBX_"
   },
   "source": [
    "#### 模型网络构建\n",
    "\n",
    "首先定义一个基础残差块，内部前向传播路径为卷积->标准化->激活函数->卷积->标准化，最后输出$relu(H(x) = F(x) + x)$。"
   ]
  },
  {
   "cell_type": "code",
   "execution_count": 23,
   "metadata": {
    "id": "4HhOs8tXeBYA"
   },
   "outputs": [],
   "source": [
    "import torch.nn as nn\n",
    "\n",
    "class BasicBlock(nn.Module):\n",
    "    def __init__(self, in_channels, out_channels, stride=1, downsample=None):\n",
    "        super(BasicBlock, self).__init__()\n",
    "        self.conv1 = nn.Conv2d(in_channels, out_channels, kernel_size=3, stride=stride, padding=1, bias=False)\n",
    "        self.bn1 = nn.BatchNorm2d(out_channels)\n",
    "        self.relu = nn.ReLU(inplace=True)\n",
    "        self.conv2 = nn.Conv2d(out_channels, out_channels, kernel_size=3, stride=1, padding=1, bias=False)\n",
    "        self.bn2 = nn.BatchNorm2d(out_channels)\n",
    "        self.downsample = downsample\n",
    "\n",
    "    def forward(self, x):\n",
    "        identity = x\n",
    "        if self.downsample is not None:\n",
    "            identity = self.downsample(x)\n",
    "\n",
    "        out = self.conv1(x)\n",
    "        out = self.bn1(out)\n",
    "        out = self.relu(out)\n",
    "        out = self.conv2(out)\n",
    "        out = self.bn2(out)\n",
    "        out += identity\n",
    "        out = self.relu(out)\n",
    "\n",
    "        return out"
   ]
  },
  {
   "cell_type": "markdown",
   "metadata": {
    "id": "FeobxawZeBYA"
   },
   "source": [
    "ResNet18网络结构，输入通道数为3(RGB)，前向传播路径为卷积->标准化->激活函数->残差块*4->平均池化->特征图展平->全连接层->输出\n",
    "\n",
    "在残差块前的部分可以理解为做了初步的特征提取。在残差块内部，由于特征图宽高及层数改变，故需要对每层的输入$x$进行变换，才能将其加到输出$F(x)$中\n",
    "\n",
    "downsample定义了一个卷积核为1的操作，同时步长与残差块步长一致，故能变换输入特征图$x$为输出$F(x)$的形式"
   ]
  },
  {
   "cell_type": "code",
   "execution_count": 24,
   "metadata": {
    "id": "yG2HdQGeeBYA"
   },
   "outputs": [],
   "source": [
    "class ResNet18(nn.Module):\n",
    "    def __init__(self, num_classes=10):\n",
    "        super(ResNet18, self).__init__()\n",
    "        self.in_channels = 64\n",
    "        self.conv1 = nn.Conv2d(3, 64, kernel_size=3, stride=1, padding=1, bias=False)\n",
    "        self.bn1 = nn.BatchNorm2d(64)\n",
    "        self.relu = nn.ReLU(inplace=True)\n",
    "        self.layer1 = self._make_layer(64, 2, stride=1)\n",
    "        self.layer2 = self._make_layer(128, 2, stride=2)\n",
    "        self.layer3 = self._make_layer(256, 2, stride=2)\n",
    "        self.layer4 = self._make_layer(512, 2, stride=2)\n",
    "        self.avgpool = nn.AdaptiveAvgPool2d((1, 1))\n",
    "        self.fc = nn.Linear(512, num_classes)\n",
    "\n",
    "    def _make_layer(self, out_channels, blocks, stride):\n",
    "        downsample = None\n",
    "        if stride != 1 or self.in_channels != out_channels:\n",
    "            downsample = nn.Sequential(\n",
    "                nn.Conv2d(self.in_channels, out_channels, kernel_size=1, stride=stride, bias=False),\n",
    "                nn.BatchNorm2d(out_channels),\n",
    "            )\n",
    "\n",
    "        layers = []\n",
    "        layers.append(BasicBlock(self.in_channels, out_channels, stride, downsample))\n",
    "        self.in_channels = out_channels\n",
    "        for _ in range(1, blocks):\n",
    "            layers.append(BasicBlock(out_channels, out_channels))\n",
    "\n",
    "        return nn.Sequential(*layers)\n",
    "\n",
    "    def forward(self, x):\n",
    "        x = self.conv1(x)\n",
    "        x = self.bn1(x)\n",
    "        x = self.relu(x)\n",
    "        x = self.layer1(x)\n",
    "        x = self.layer2(x)\n",
    "        x = self.layer3(x)\n",
    "        x = self.layer4(x)\n",
    "        x = self.avgpool(x)\n",
    "        x = torch.flatten(x, 1)\n",
    "        x = self.fc(x)\n",
    "        return x"
   ]
  },
  {
   "cell_type": "code",
   "execution_count": 39,
   "metadata": {
    "id": "2pD0j0l2eBYA"
   },
   "outputs": [],
   "source": [
    "model = ResNet18(num_classes=10).to(device)\n",
    "\n",
    "criterion = torch.nn.CrossEntropyLoss()\n",
    "optimizer = torch.optim.Adam(model.parameters(), lr=learning_rate)"
   ]
  },
  {
   "cell_type": "markdown",
   "metadata": {
    "id": "eWEb4dcIeBYA"
   },
   "source": [
    "#### 训练部分\n",
    "\n",
    "流程：梯度置零->正向传播->损失计算->反向传播->参数更新"
   ]
  },
  {
   "cell_type": "code",
   "execution_count": 26,
   "metadata": {
    "id": "T8X1CKeFeBYB"
   },
   "outputs": [],
   "source": [
    "def train():\n",
    "    model.train()\n",
    "    loss_sum = 0\n",
    "    for _, data in enumerate(train_loader, 0):\n",
    "        inputs, target = data\n",
    "        inputs = inputs.to(device)\n",
    "        target = target.to(device)\n",
    "        optimizer.zero_grad()\n",
    "\n",
    "        outputs = model(inputs)\n",
    "        loss = criterion(outputs, target)\n",
    "\n",
    "        loss.backward()\n",
    "        optimizer.step()\n",
    "\n",
    "        loss_sum += loss.item()\n",
    "    return loss_sum / train_loader.__len__()"
   ]
  },
  {
   "cell_type": "markdown",
   "metadata": {
    "id": "aHYMiwbCeBYB"
   },
   "source": [
    "#### 推理部分\n",
    "\n",
    "只进行正向传播"
   ]
  },
  {
   "cell_type": "code",
   "execution_count": 27,
   "metadata": {
    "id": "x0ZNDQCLeBYB"
   },
   "outputs": [],
   "source": [
    "def test():\n",
    "    model.eval()\n",
    "    correct = 0\n",
    "    total = 0\n",
    "    with torch.no_grad(): # 测试集不用算梯度\n",
    "        for data in test_loader:\n",
    "            images, labels = data\n",
    "            images = images.to(device)\n",
    "            labels = labels.to(device)\n",
    "            outputs = model(images)\n",
    "            _, predicted = outputs.max(1)\n",
    "            total += labels.size(0) # 取出当前批次的总数\n",
    "            correct += (predicted == labels).sum().item()\n",
    "    return correct / total"
   ]
  },
  {
   "cell_type": "markdown",
   "metadata": {
    "id": "EVFLr-i3eBYB"
   },
   "source": [
    "#### 数据展示"
   ]
  },
  {
   "cell_type": "code",
   "execution_count": 40,
   "metadata": {
    "colab": {
     "base_uri": "https://localhost:8080/",
     "height": 798
    },
    "id": "dnMtbhLBeBYB",
    "outputId": "53c6923c-13a3-4524-ac54-468b51fd6462"
   },
   "outputs": [
    {
     "name": "stdout",
     "output_type": "stream",
     "text": [
      "EPOCH: 1 / 20    loss: 1.32531    acc on testset: 62.31%\n",
      "EPOCH: 2 / 20    loss: 0.8457    acc on testset: 72.02%\n",
      "EPOCH: 3 / 20    loss: 0.66131    acc on testset: 70.79%\n",
      "EPOCH: 4 / 20    loss: 0.56202    acc on testset: 77.25%\n",
      "EPOCH: 5 / 20    loss: 0.48985    acc on testset: 79.21%\n",
      "EPOCH: 6 / 20    loss: 0.44156    acc on testset: 82.14%\n",
      "EPOCH: 7 / 20    loss: 0.39869    acc on testset: 83.81%\n",
      "EPOCH: 8 / 20    loss: 0.3668    acc on testset: 85.26%\n",
      "EPOCH: 9 / 20    loss: 0.33103    acc on testset: 85.07%\n",
      "EPOCH: 10 / 20    loss: 0.30615    acc on testset: 84.73%\n",
      "EPOCH: 11 / 20    loss: 0.28485    acc on testset: 84.54%\n",
      "EPOCH: 12 / 20    loss: 0.26719    acc on testset: 87.11%\n",
      "EPOCH: 13 / 20    loss: 0.24728    acc on testset: 87.75%\n",
      "EPOCH: 14 / 20    loss: 0.23267    acc on testset: 88.53%\n",
      "EPOCH: 15 / 20    loss: 0.21836    acc on testset: 87.02%\n",
      "EPOCH: 16 / 20    loss: 0.20369    acc on testset: 88.76%\n",
      "EPOCH: 17 / 20    loss: 0.19438    acc on testset: 88.97%\n",
      "EPOCH: 18 / 20    loss: 0.17931    acc on testset: 87.78%\n",
      "EPOCH: 19 / 20    loss: 0.17106    acc on testset: 88.7%\n",
      "EPOCH: 20 / 20    loss: 0.15264    acc on testset: 88.11%\n"
     ]
    },
    {
     "data": {
      "image/png": "[encoded data removed]",
      "text/plain": [
       "<Figure size 640x480 with 1 Axes>"
      ]
     },
     "metadata": {},
     "output_type": "display_data"
    }
   ],
   "source": [
    "from matplotlib import pyplot as plt\n",
    "\n",
    "if __name__ == '__main__':   #start\n",
    "    acc_list_test = []\n",
    "    for epoch in range(EPOCH):\n",
    "        loss_train = train()\n",
    "        acc_test = test()\n",
    "        print(f\"EPOCH: {epoch + 1} / {EPOCH}    loss: {round(loss_train, 5)}    acc on testset: {round(acc_test * 100, 2)}%\")\n",
    "        acc_list_test.append(acc_test)\n",
    "\n",
    "    torch.save(model.state_dict(), \"model.pth\")\n",
    "\n",
    "    plt.plot(acc_list_test)\n",
    "    plt.xlabel('Epoch')\n",
    "    plt.ylabel('Accuracy On TestSet')\n",
    "    plt.show()"
   ]
  }
 ],
 "metadata": {
  "accelerator": "GPU",
  "colab": {
   "gpuType": "T4",
   "provenance": []
  },
  "kernelspec": {
   "display_name": "Python 3",
   "name": "python3"
  },
  "language_info": {
   "codemirror_mode": {
    "name": "ipython",
    "version": 3
   },
   "file_extension": ".py",
   "mimetype": "text/x-python",
   "name": "python",
   "nbconvert_exporter": "python",
   "pygments_lexer": "ipython3",
   "version": "3.10.8"
  }
 },
 "nbformat": 4,
 "nbformat_minor": 0
}
